{
  "cells": [
    {
      "cell_type": "code",
      "execution_count": 992,
      "metadata": {},
      "outputs": [],
      "source": [
        "import random\n",
        "from itertools import combinations\n"
      ]
    },
    {
      "cell_type": "markdown",
      "metadata": {},
      "source": [
        "# Лабораторная работа №5\n",
        "\n",
        "## Имитационная модель сети Петри"
      ]
    },
    {
      "cell_type": "code",
      "execution_count": 993,
      "metadata": {},
      "outputs": [],
      "source": [
        "class PetriNet:\n",
        "    def __init__(self, transitions, marking):\n",
        "        self.places = list([Place(m, i) for i, m in enumerate(marking)])\n",
        "        self.transitions = list([\n",
        "            Transition(\n",
        "                [OutArc(self.places[i]) for i in outs],\n",
        "                [InArc(self.places[i]) for i in ins])\n",
        "            for outs, ins in transitions\n",
        "        ])\n",
        "        # print(f\"Places: {self.places}\\tTransitions: {self.transitions}\")\n",
        "        self.finished = False\n",
        "        self.markings = [self.get_marking()]\n",
        "\n",
        "\n",
        "    def get_marking(self):\n",
        "        return [x.holding for x in self.places]\n",
        "\n",
        "    def run(self, info=False):\n",
        "        i = 0\n",
        "        while not self.finished and i < 25:\n",
        "            current_marking = self._run_once(info)\n",
        "            if not current_marking:\n",
        "                self.finished = True\n",
        "                break\n",
        "            yield current_marking\n",
        "            i += 1\n",
        "\n",
        "    def _run_once(self, info):\n",
        "        fired_transitions = set()\n",
        "        while len(fired_transitions) < len(self.transitions):\n",
        "            t_num = random.randint(0, len(self.transitions) - 1)\n",
        "            t = self.transitions[t_num]\n",
        "            if t.fire():\n",
        "                if info:\n",
        "                    # display_table([t_num, t, self.get_marking()])\n",
        "                    display_table([[str(t_num), str(t), str(self.get_marking())]])\n",
        "                    # print(\n",
        "                    #     f\"Firing transition {t_num}: {t} \\tMarking {self.get_marking()}\")\n",
        "                    # print(f\"Current marking {self.get_marking()}\")\n",
        "                return self.get_marking()\n",
        "            else:\n",
        "                fired_transitions.add(t_num)\n",
        "        return None\n"
      ]
    },
    {
      "cell_type": "code",
      "execution_count": 994,
      "metadata": {},
      "outputs": [],
      "source": [
        "class Transition:\n",
        "    def __init__(self, out_arcs, in_arcs):\n",
        "        self.out_arcs = set(out_arcs)\n",
        "        self.in_arcs = set(in_arcs)\n",
        "        self.arcs = self.out_arcs.union(in_arcs)\n",
        "        # print(f\"Out arcs: {self.out_arcs}\\nIn arcs: {self.in_arcs}\")\n",
        "        # print(f\"Arcs: {self.arcs}\")\n",
        "\n",
        "    def fire(self):\n",
        "        if self.not_blocked():\n",
        "            for arc in self.arcs:\n",
        "                arc.trigger()\n",
        "            return True\n",
        "        return False\n",
        "\n",
        "    def not_blocked(self):\n",
        "        return all(arc.non_blocking() for arc in self.out_arcs)\n",
        "\n",
        "    def get_out_arc(self, place):\n",
        "        return [a for a in self.out_arcs if a.place == place][0]\n",
        "\n",
        "    def get_in_arc(self, place):\n",
        "        return [a for a in self.in_arcs if a.place == place][0]\n",
        "\n",
        "    def __str__(self):\n",
        "        return f\"{list(self.out_arcs)} -> {list(self.in_arcs)}\"\n",
        "\n",
        "    __repr__ = __str__\n"
      ]
    },
    {
      "cell_type": "code",
      "execution_count": 995,
      "metadata": {},
      "outputs": [],
      "source": [
        "class Place:\n",
        "    def __init__(self, holding, id=None):\n",
        "        self.holding = holding\n",
        "        self.id = id\n",
        "\n",
        "    def __str__(self):\n",
        "        return f\"#{self.id+1}({self.holding})\"\n",
        "\n",
        "    __repr__ = __str__\n"
      ]
    },
    {
      "cell_type": "code",
      "execution_count": 996,
      "metadata": {},
      "outputs": [],
      "source": [
        "class Arc:\n",
        "    def __init__(self, place: Place, amount=1):\n",
        "        self.place = place\n",
        "        self.amount = amount\n",
        "\n",
        "    def __str__(self):\n",
        "        return f\"{self.place}\" + (f\"[{self.amount}]\" if self.amount > 1 else \"\")\n",
        "\n",
        "    __repr__ = __str__\n"
      ]
    },
    {
      "cell_type": "code",
      "execution_count": 997,
      "metadata": {},
      "outputs": [],
      "source": [
        "class OutArc(Arc):\n",
        "    def trigger(self):\n",
        "        self.place.holding -= self.amount\n",
        "\n",
        "    def non_blocking(self):\n",
        "        return self.place.holding >= self.amount\n"
      ]
    },
    {
      "cell_type": "code",
      "execution_count": 998,
      "metadata": {},
      "outputs": [],
      "source": [
        "class InArc(Arc):\n",
        "    def trigger(self):\n",
        "        self.place.holding += self.amount\n"
      ]
    },
    {
      "cell_type": "markdown",
      "metadata": {},
      "source": [
        "![](./1.png)"
      ]
    },
    {
      "cell_type": "code",
      "execution_count": 999,
      "metadata": {},
      "outputs": [],
      "source": [
        "# 1\n",
        "marking1 = [0, 0, 1, 1, 0]\n",
        "transitions1 = [\n",
        "    ([3], [0]),\n",
        "    ([2], [1]),\n",
        "    ([0, 1], [2, 3]),\n",
        "    ([3], [4])\n",
        "]"
      ]
    },
    {
      "cell_type": "markdown",
      "metadata": {},
      "source": [
        "![](./2.png)"
      ]
    },
    {
      "cell_type": "code",
      "execution_count": 1000,
      "metadata": {},
      "outputs": [],
      "source": [
        "# 2\n",
        "marking2 = [1, 0, 0, 0, 0, 1]\n",
        "transitions2 = [\n",
        "    ([0], [1, 2, 5]),\n",
        "    ([1], [3]),\n",
        "    ([2], [4]),\n",
        "    ([3, 4, 5], [0])\n",
        "]\n"
      ]
    },
    {
      "attachments": {},
      "cell_type": "markdown",
      "metadata": {},
      "source": [
        "## Характеристики сети Петри\n",
        "\n",
        "### Ограниченность"
      ]
    },
    {
      "cell_type": "code",
      "execution_count": 1001,
      "metadata": {},
      "outputs": [],
      "source": [
        "def bounded_with(net: PetriNet):\n",
        "    markings = [net.get_marking()]\n",
        "    markings += [m for m in net.run()]\n",
        "    return max([max(m) for m in markings])\n"
      ]
    },
    {
      "attachments": {},
      "cell_type": "markdown",
      "metadata": {},
      "source": [
        "### Безопасность"
      ]
    },
    {
      "cell_type": "code",
      "execution_count": 1002,
      "metadata": {},
      "outputs": [],
      "source": [
        "def is_safe(net: PetriNet):\n",
        "    return bounded_with(net) == 1\n"
      ]
    },
    {
      "attachments": {},
      "cell_type": "markdown",
      "metadata": {},
      "source": [
        "### Консервативность"
      ]
    },
    {
      "cell_type": "code",
      "execution_count": 1003,
      "metadata": {},
      "outputs": [],
      "source": [
        "def is_conservative(net: PetriNet):\n",
        "    s0 = sum(net.get_marking())\n",
        "    for marking in net.run():\n",
        "        s = sum(marking)\n",
        "        if s != s0:\n",
        "            return False\n",
        "    return True\n"
      ]
    },
    {
      "attachments": {},
      "cell_type": "markdown",
      "metadata": {},
      "source": [
        "### Живая / не живая"
      ]
    },
    {
      "cell_type": "code",
      "execution_count": 1004,
      "metadata": {},
      "outputs": [],
      "source": [
        "def is_alive(net: PetriNet):\n",
        "    for _ in net.run():\n",
        "        pass\n",
        "    return not net.finished\n"
      ]
    },
    {
      "attachments": {},
      "cell_type": "markdown",
      "metadata": {},
      "source": [
        "### Параллельность"
      ]
    },
    {
      "cell_type": "code",
      "execution_count": 1005,
      "metadata": {},
      "outputs": [],
      "source": [
        "def check_parralel(net: PetriNet):\n",
        "    not_blocked_ts = [t for t in net.transitions if t.not_blocked()]\n",
        "    if len(not_blocked_ts) <= 1:\n",
        "        return False\n",
        "    for t1, t2 in combinations(not_blocked_ts, 2):\n",
        "        places1 = set(place for place in t1.out_arcs)\n",
        "        places2 = set(place for place in t2.out_arcs)\n",
        "        if places1 != places2:\n",
        "            return True\n",
        "        mutual_places = places1.intersection(places2)\n",
        "        if all(p.holding >= t1.get_out_arc(p).amount + t2.get_out_arc(p).amount for p in mutual_places):\n",
        "            return True\n",
        "    return False\n",
        "\n",
        "\n",
        "def is_parallel(net: PetriNet):\n",
        "    if check_parralel(net):\n",
        "        return True\n",
        "    for _ in net.run():\n",
        "        if check_parralel(net):\n",
        "            return True\n",
        "    return False\n"
      ]
    },
    {
      "attachments": {},
      "cell_type": "markdown",
      "metadata": {},
      "source": [
        "### Свободного выбора"
      ]
    },
    {
      "cell_type": "code",
      "execution_count": 1006,
      "metadata": {},
      "outputs": [],
      "source": [
        "def is_free_choice(net: PetriNet):\n",
        "    for t1, t2 in combinations(net.transitions, 2):\n",
        "        places1 = set(arc.place for arc in t1.out_arcs)\n",
        "        places2 = set(arc.place for arc in t2.out_arcs)\n",
        "        if places1.intersection(places2):\n",
        "            return True\n",
        "    return False\n"
      ]
    },
    {
      "attachments": {},
      "cell_type": "markdown",
      "metadata": {},
      "source": [
        "### Маркированная"
      ]
    },
    {
      "cell_type": "code",
      "execution_count": 1007,
      "metadata": {},
      "outputs": [],
      "source": [
        "def is_marked(net: PetriNet):\n",
        "    for place in net.places:\n",
        "        in_arcs = [a for t in net.transitions\n",
        "                   for a in t.in_arcs if a.place == place]\n",
        "        out_arcs = [a for t in net.transitions\n",
        "                    for a in t.out_arcs if a.place == place]\n",
        "        if len(out_arcs) != len(in_arcs) != 1:\n",
        "            return False\n",
        "    return True\n"
      ]
    },
    {
      "cell_type": "markdown",
      "metadata": {},
      "source": [
        "### Табличное представлние\n"
      ]
    },
    {
      "cell_type": "code",
      "execution_count": 1008,
      "metadata": {},
      "outputs": [
        {
          "data": {
            "text/html": [
              "<table><tr><td><h4>Опсиание</h4></td><td><h4>Схема 1</h4></td><td><h4>Схема 2</h4></td></tr><tr><td><h4>Ограниченость</h4></td><td><h4>1</h4></td><td><h4>2</h4></td></tr><tr><td><h4>Безопастность</h4></td><td><h4>True</h4></td><td><h4>False</h4></td></tr><tr><td><h4>Консервативность</h4></td><td><h4>True</h4></td><td><h4>False</h4></td></tr><tr><td><h4>Живая</h4></td><td><h4>False</h4></td><td><h4>True</h4></td></tr><tr><td><h4>Параллельность</h4></td><td><h4>True</h4></td><td><h4>True</h4></td></tr><tr><td><h4>Маркированная</h4></td><td><h4>True</h4></td><td><h4>False</h4></td></tr></table>"
            ],
            "text/plain": [
              "<IPython.core.display.HTML object>"
            ]
          },
          "metadata": {},
          "output_type": "display_data"
        }
      ],
      "source": [
        "from IPython.display import HTML, display\n",
        "\n",
        "\n",
        "def display_table(data):\n",
        "    html = \"<table>\"\n",
        "    for row in data:\n",
        "        html += \"<tr>\"\n",
        "        for field in row:\n",
        "            html += \"<td><h4>%s</h4></td>\" % (field)\n",
        "        html += \"</tr>\"\n",
        "    html += \"</table>\"\n",
        "    display(HTML(html))\n",
        "\n",
        "\n",
        "data = [['Опсиание', 'Схема 1', 'Схема 2'],\n",
        "        ['Ограниченость', bounded_with(PetriNet(transitions1, marking1)), bounded_with(\n",
        "            PetriNet(transitions2, marking2))],\n",
        "        ['Безопастность', is_safe(PetriNet(transitions1, marking1)), is_safe(\n",
        "            PetriNet(transitions2, marking2))],\n",
        "        ['Консервативность', is_conservative(PetriNet(\n",
        "            transitions1, marking1)), is_conservative(PetriNet(transitions2, marking2))],\n",
        "        ['Живая', is_alive(PetriNet(transitions1, marking1)),\n",
        "         is_alive(PetriNet(transitions2, marking2))],\n",
        "        ['Параллельность', is_parallel(PetriNet(transitions1, marking1)), is_parallel(\n",
        "            PetriNet(transitions2, marking2))],\n",
        "        ['Маркированная', is_free_choice(PetriNet(transitions1, marking1)), is_free_choice(PetriNet(transitions2, marking2))]]\n",
        "\n",
        "display_table(data)\n"
      ]
    },
    {
      "attachments": {},
      "cell_type": "markdown",
      "metadata": {},
      "source": [
        "### Полное исследование сети #1\n",
        "\n",
        "![](https://imgur.com/uVBQESS.png)"
      ]
    },
    {
      "cell_type": "code",
      "execution_count": 1009,
      "metadata": {},
      "outputs": [
        {
          "data": {
            "text/html": [
              "<table><tr><td><h4>Запуск</h4></td><td><h4>Переход</h4></td><td><h4>Обновленная маркировка</h4></td></tr></table>"
            ],
            "text/plain": [
              "<IPython.core.display.HTML object>"
            ]
          },
          "metadata": {},
          "output_type": "display_data"
        },
        {
          "data": {
            "text/html": [
              "<table><tr><td><h4>1</h4></td><td><h4>[#3(0)] -> [#2(1)]</h4></td><td><h4>[0, 1, 0, 1, 0]</h4></td></tr></table>"
            ],
            "text/plain": [
              "<IPython.core.display.HTML object>"
            ]
          },
          "metadata": {},
          "output_type": "display_data"
        },
        {
          "data": {
            "text/html": [
              "<table><tr><td><h4>3</h4></td><td><h4>[#4(0)] -> [#5(1)]</h4></td><td><h4>[0, 1, 0, 0, 1]</h4></td></tr></table>"
            ],
            "text/plain": [
              "<IPython.core.display.HTML object>"
            ]
          },
          "metadata": {},
          "output_type": "display_data"
        }
      ],
      "source": [
        "def net1():\n",
        "    return PetriNet(transitions1, marking1)\n",
        "\n",
        "display_table([[\"Запуск\",\"Переход\",\"Обновленная маркировка\"]])\n",
        "\n",
        "for _ in net1().run(info=True):\n",
        "    pass\n",
        "\n"
      ]
    },
    {
      "attachments": {},
      "cell_type": "markdown",
      "metadata": {},
      "source": [
        "### Полное исследование сети #2\n",
        "\n",
        "![](https://imgur.com/2311NKm.png)"
      ]
    },
    {
      "cell_type": "code",
      "execution_count": 1010,
      "metadata": {},
      "outputs": [
        {
          "name": "stdout",
          "output_type": "stream",
          "text": [
            "\n"
          ]
        },
        {
          "data": {
            "text/html": [
              "<table><tr><td><h4>Запуск</h4></td><td><h4>Переход</h4></td><td><h4>Обновленная маркировка</h4></td></tr></table>"
            ],
            "text/plain": [
              "<IPython.core.display.HTML object>"
            ]
          },
          "metadata": {},
          "output_type": "display_data"
        },
        {
          "data": {
            "text/html": [
              "<table><tr><td><h4>0</h4></td><td><h4>[#1(0)] -> [#6(2), #2(1), #3(1)]</h4></td><td><h4>[0, 1, 1, 0, 0, 2]</h4></td></tr></table>"
            ],
            "text/plain": [
              "<IPython.core.display.HTML object>"
            ]
          },
          "metadata": {},
          "output_type": "display_data"
        },
        {
          "data": {
            "text/html": [
              "<table><tr><td><h4>2</h4></td><td><h4>[#3(0)] -> [#5(1)]</h4></td><td><h4>[0, 1, 0, 0, 1, 2]</h4></td></tr></table>"
            ],
            "text/plain": [
              "<IPython.core.display.HTML object>"
            ]
          },
          "metadata": {},
          "output_type": "display_data"
        },
        {
          "data": {
            "text/html": [
              "<table><tr><td><h4>1</h4></td><td><h4>[#2(0)] -> [#4(1)]</h4></td><td><h4>[0, 0, 0, 1, 1, 2]</h4></td></tr></table>"
            ],
            "text/plain": [
              "<IPython.core.display.HTML object>"
            ]
          },
          "metadata": {},
          "output_type": "display_data"
        },
        {
          "data": {
            "text/html": [
              "<table><tr><td><h4>3</h4></td><td><h4>[#5(0), #4(0), #6(1)] -> [#1(1)]</h4></td><td><h4>[1, 0, 0, 0, 0, 1]</h4></td></tr></table>"
            ],
            "text/plain": [
              "<IPython.core.display.HTML object>"
            ]
          },
          "metadata": {},
          "output_type": "display_data"
        },
        {
          "data": {
            "text/html": [
              "<table><tr><td><h4>0</h4></td><td><h4>[#1(0)] -> [#6(2), #2(1), #3(1)]</h4></td><td><h4>[0, 1, 1, 0, 0, 2]</h4></td></tr></table>"
            ],
            "text/plain": [
              "<IPython.core.display.HTML object>"
            ]
          },
          "metadata": {},
          "output_type": "display_data"
        },
        {
          "data": {
            "text/html": [
              "<table><tr><td><h4>2</h4></td><td><h4>[#3(0)] -> [#5(1)]</h4></td><td><h4>[0, 1, 0, 0, 1, 2]</h4></td></tr></table>"
            ],
            "text/plain": [
              "<IPython.core.display.HTML object>"
            ]
          },
          "metadata": {},
          "output_type": "display_data"
        },
        {
          "data": {
            "text/html": [
              "<table><tr><td><h4>1</h4></td><td><h4>[#2(0)] -> [#4(1)]</h4></td><td><h4>[0, 0, 0, 1, 1, 2]</h4></td></tr></table>"
            ],
            "text/plain": [
              "<IPython.core.display.HTML object>"
            ]
          },
          "metadata": {},
          "output_type": "display_data"
        },
        {
          "data": {
            "text/html": [
              "<table><tr><td><h4>3</h4></td><td><h4>[#5(0), #4(0), #6(1)] -> [#1(1)]</h4></td><td><h4>[1, 0, 0, 0, 0, 1]</h4></td></tr></table>"
            ],
            "text/plain": [
              "<IPython.core.display.HTML object>"
            ]
          },
          "metadata": {},
          "output_type": "display_data"
        },
        {
          "data": {
            "text/html": [
              "<table><tr><td><h4>0</h4></td><td><h4>[#1(0)] -> [#6(2), #2(1), #3(1)]</h4></td><td><h4>[0, 1, 1, 0, 0, 2]</h4></td></tr></table>"
            ],
            "text/plain": [
              "<IPython.core.display.HTML object>"
            ]
          },
          "metadata": {},
          "output_type": "display_data"
        },
        {
          "data": {
            "text/html": [
              "<table><tr><td><h4>1</h4></td><td><h4>[#2(0)] -> [#4(1)]</h4></td><td><h4>[0, 0, 1, 1, 0, 2]</h4></td></tr></table>"
            ],
            "text/plain": [
              "<IPython.core.display.HTML object>"
            ]
          },
          "metadata": {},
          "output_type": "display_data"
        },
        {
          "data": {
            "text/html": [
              "<table><tr><td><h4>2</h4></td><td><h4>[#3(0)] -> [#5(1)]</h4></td><td><h4>[0, 0, 0, 1, 1, 2]</h4></td></tr></table>"
            ],
            "text/plain": [
              "<IPython.core.display.HTML object>"
            ]
          },
          "metadata": {},
          "output_type": "display_data"
        },
        {
          "data": {
            "text/html": [
              "<table><tr><td><h4>3</h4></td><td><h4>[#5(0), #4(0), #6(1)] -> [#1(1)]</h4></td><td><h4>[1, 0, 0, 0, 0, 1]</h4></td></tr></table>"
            ],
            "text/plain": [
              "<IPython.core.display.HTML object>"
            ]
          },
          "metadata": {},
          "output_type": "display_data"
        },
        {
          "data": {
            "text/html": [
              "<table><tr><td><h4>0</h4></td><td><h4>[#1(0)] -> [#6(2), #2(1), #3(1)]</h4></td><td><h4>[0, 1, 1, 0, 0, 2]</h4></td></tr></table>"
            ],
            "text/plain": [
              "<IPython.core.display.HTML object>"
            ]
          },
          "metadata": {},
          "output_type": "display_data"
        },
        {
          "data": {
            "text/html": [
              "<table><tr><td><h4>2</h4></td><td><h4>[#3(0)] -> [#5(1)]</h4></td><td><h4>[0, 1, 0, 0, 1, 2]</h4></td></tr></table>"
            ],
            "text/plain": [
              "<IPython.core.display.HTML object>"
            ]
          },
          "metadata": {},
          "output_type": "display_data"
        },
        {
          "data": {
            "text/html": [
              "<table><tr><td><h4>1</h4></td><td><h4>[#2(0)] -> [#4(1)]</h4></td><td><h4>[0, 0, 0, 1, 1, 2]</h4></td></tr></table>"
            ],
            "text/plain": [
              "<IPython.core.display.HTML object>"
            ]
          },
          "metadata": {},
          "output_type": "display_data"
        },
        {
          "data": {
            "text/html": [
              "<table><tr><td><h4>3</h4></td><td><h4>[#5(0), #4(0), #6(1)] -> [#1(1)]</h4></td><td><h4>[1, 0, 0, 0, 0, 1]</h4></td></tr></table>"
            ],
            "text/plain": [
              "<IPython.core.display.HTML object>"
            ]
          },
          "metadata": {},
          "output_type": "display_data"
        },
        {
          "data": {
            "text/html": [
              "<table><tr><td><h4>0</h4></td><td><h4>[#1(0)] -> [#6(2), #2(1), #3(1)]</h4></td><td><h4>[0, 1, 1, 0, 0, 2]</h4></td></tr></table>"
            ],
            "text/plain": [
              "<IPython.core.display.HTML object>"
            ]
          },
          "metadata": {},
          "output_type": "display_data"
        },
        {
          "data": {
            "text/html": [
              "<table><tr><td><h4>2</h4></td><td><h4>[#3(0)] -> [#5(1)]</h4></td><td><h4>[0, 1, 0, 0, 1, 2]</h4></td></tr></table>"
            ],
            "text/plain": [
              "<IPython.core.display.HTML object>"
            ]
          },
          "metadata": {},
          "output_type": "display_data"
        },
        {
          "data": {
            "text/html": [
              "<table><tr><td><h4>1</h4></td><td><h4>[#2(0)] -> [#4(1)]</h4></td><td><h4>[0, 0, 0, 1, 1, 2]</h4></td></tr></table>"
            ],
            "text/plain": [
              "<IPython.core.display.HTML object>"
            ]
          },
          "metadata": {},
          "output_type": "display_data"
        },
        {
          "data": {
            "text/html": [
              "<table><tr><td><h4>3</h4></td><td><h4>[#5(0), #4(0), #6(1)] -> [#1(1)]</h4></td><td><h4>[1, 0, 0, 0, 0, 1]</h4></td></tr></table>"
            ],
            "text/plain": [
              "<IPython.core.display.HTML object>"
            ]
          },
          "metadata": {},
          "output_type": "display_data"
        },
        {
          "data": {
            "text/html": [
              "<table><tr><td><h4>0</h4></td><td><h4>[#1(0)] -> [#6(2), #2(1), #3(1)]</h4></td><td><h4>[0, 1, 1, 0, 0, 2]</h4></td></tr></table>"
            ],
            "text/plain": [
              "<IPython.core.display.HTML object>"
            ]
          },
          "metadata": {},
          "output_type": "display_data"
        },
        {
          "data": {
            "text/html": [
              "<table><tr><td><h4>1</h4></td><td><h4>[#2(0)] -> [#4(1)]</h4></td><td><h4>[0, 0, 1, 1, 0, 2]</h4></td></tr></table>"
            ],
            "text/plain": [
              "<IPython.core.display.HTML object>"
            ]
          },
          "metadata": {},
          "output_type": "display_data"
        },
        {
          "data": {
            "text/html": [
              "<table><tr><td><h4>2</h4></td><td><h4>[#3(0)] -> [#5(1)]</h4></td><td><h4>[0, 0, 0, 1, 1, 2]</h4></td></tr></table>"
            ],
            "text/plain": [
              "<IPython.core.display.HTML object>"
            ]
          },
          "metadata": {},
          "output_type": "display_data"
        },
        {
          "data": {
            "text/html": [
              "<table><tr><td><h4>3</h4></td><td><h4>[#5(0), #4(0), #6(1)] -> [#1(1)]</h4></td><td><h4>[1, 0, 0, 0, 0, 1]</h4></td></tr></table>"
            ],
            "text/plain": [
              "<IPython.core.display.HTML object>"
            ]
          },
          "metadata": {},
          "output_type": "display_data"
        },
        {
          "data": {
            "text/html": [
              "<table><tr><td><h4>0</h4></td><td><h4>[#1(0)] -> [#6(2), #2(1), #3(1)]</h4></td><td><h4>[0, 1, 1, 0, 0, 2]</h4></td></tr></table>"
            ],
            "text/plain": [
              "<IPython.core.display.HTML object>"
            ]
          },
          "metadata": {},
          "output_type": "display_data"
        }
      ],
      "source": [
        "def net2():\n",
        "    return PetriNet(transitions2, marking2)\n",
        "print()\n",
        "display_table([[\"Запуск\",\"Переход\",\"Обновленная маркировка\"]])\n",
        "for _ in net2().run(info=True):\n",
        "    pass\n",
        "\n"
      ]
    }
  ],
  "metadata": {
    "kernelspec": {
      "display_name": "Python 3.10.6 ('env': venv)",
      "language": "python",
      "name": "python3"
    },
    "language_info": {
      "codemirror_mode": {
        "name": "ipython",
        "version": 3
      },
      "file_extension": ".py",
      "mimetype": "text/x-python",
      "name": "python",
      "nbconvert_exporter": "python",
      "pygments_lexer": "ipython3",
      "version": "3.10.6"
    },
    "vscode": {
      "interpreter": {
        "hash": "1c392b5760d0b3935d68c9662fbb9672f5e54a780fcda142c2f10022daadb3ae"
      }
    }
  },
  "nbformat": 4,
  "nbformat_minor": 0
}
