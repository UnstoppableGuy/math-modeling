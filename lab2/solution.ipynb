{
 "cells": [
  {
   "cell_type": "markdown",
   "id": "a8603127",
   "metadata": {},
   "source": [
    "# Лабораторная работа №2"
   ]
  },
  {
   "cell_type": "markdown",
   "id": "2f8c6aba",
   "metadata": {},
   "source": [
    "## Задание 1"
   ]
  },
  {
   "cell_type": "markdown",
   "id": "5d98d1ad",
   "metadata": {},
   "source": [
    "![](./1.png)"
   ]
  },
  {
   "cell_type": "code",
   "execution_count": 385,
   "id": "945587d7",
   "metadata": {},
   "outputs": [],
   "source": [
    "from random import random, uniform\n",
    "from math import erf, log, exp\n",
    "import numpy as np\n",
    "import matplotlib.pyplot as plt\n",
    "from sympy import *\n",
    "from sympy.abc import x, y\n",
    "from sympy.calculus.util import continuous_domain\n",
    "from scipy.stats import norm, chi2\n"
   ]
  },
  {
   "cell_type": "code",
   "execution_count": 386,
   "id": "b0db4435",
   "metadata": {},
   "outputs": [],
   "source": [
    "inverse_function = \"\"\n",
    "distribution_expression = \"\"\n",
    "plt.rcParams[\"figure.figsize\"] = (10, 30)\n",
    "number_of_dots = 1000\n",
    "gamma = 0.95\n",
    "hypothesis_error_value = 0.05"
   ]
  },
  {
   "cell_type": "markdown",
   "id": "afe8fbea",
   "metadata": {},
   "source": [
    "### Нахождение обратной функции"
   ]
  },
  {
   "cell_type": "code",
   "execution_count": 387,
   "id": "c219ba7c",
   "metadata": {},
   "outputs": [],
   "source": [
    "def find_inverse_function(input_text): \n",
    "    global inverse_function\n",
    "    ex = sympify(input_text)\n",
    "    distribution_expression = ex\n",
    "    extra = ex - y\n",
    "    results = solve(extra, x)\n",
    "    # print(results)\n",
    "    is_found = False\n",
    "    for result in results:\n",
    "        if solve(diff(result, y) > 0, y, S.Reals) != False and continuous_domain(result, y, S.Reals).is_proper_superset(Interval(0, 1)):\n",
    "            print(f\"Обратная функция: {result}\")\n",
    "            inverse_function = lambdify(y, result)\n",
    "            is_found = True\n",
    "            break\n",
    "\n",
    "    if not is_found:\n",
    "        print(\"обратная функция не найдена\")\n"
   ]
  },
  {
   "cell_type": "markdown",
   "id": "f4232623",
   "metadata": {},
   "source": [
    "### Генерация значений"
   ]
  },
  {
   "cell_type": "code",
   "execution_count": 388,
   "id": "5d533282",
   "metadata": {},
   "outputs": [],
   "source": [
    "def get_random_data(number_of_tests):\n",
    "    global inverse_function\n",
    "    result = []\n",
    "    for i in range(number_of_tests):\n",
    "        result.append(inverse_function(random()))\n",
    "    return result"
   ]
  },
  {
   "cell_type": "markdown",
   "id": "6a255b2a",
   "metadata": {},
   "source": [
    "### Нахождение матожидайний"
   ]
  },
  {
   "cell_type": "code",
   "execution_count": 389,
   "id": "d3e28691",
   "metadata": {},
   "outputs": [],
   "source": [
    "def get_average(data, number_of_tests):\n",
    "    return sum(data) / number_of_tests"
   ]
  },
  {
   "cell_type": "code",
   "execution_count": 390,
   "id": "8199608d",
   "metadata": {},
   "outputs": [],
   "source": [
    "def get_real_average(function, limits):\n",
    "    # integrate для вычисления интеграла\n",
    "    return integrate(x * function, (x, limits[0], limits[1]))\n"
   ]
  },
  {
   "cell_type": "markdown",
   "id": "4f7baeb4",
   "metadata": {},
   "source": [
    "### Нахождение дисперсий"
   ]
  },
  {
   "cell_type": "code",
   "execution_count": 391,
   "id": "a6b33f47",
   "metadata": {},
   "outputs": [],
   "source": [
    "def get_disp(data, average):\n",
    "    result = 0\n",
    "    for item in data:\n",
    "        result += (item - average) ** 2\n",
    "    return result / number_of_tests"
   ]
  },
  {
   "cell_type": "code",
   "execution_count": 392,
   "id": "9d8b4808",
   "metadata": {},
   "outputs": [],
   "source": [
    "def get_real_disp(function, limits, average):\n",
    "    return (integrate(x ** 2 * function, (x, limits[0], limits[1])) - average ** 2).evalf()"
   ]
  },
  {
   "cell_type": "code",
   "execution_count": 393,
   "id": "db0907e2",
   "metadata": {},
   "outputs": [],
   "source": [
    "def get_delta(offset):\n",
    "    t = norm.ppf(gamma / 2 + 0.5)\n",
    "    return t * offset / np.sqrt(number_of_tests)\n"
   ]
  },
  {
   "cell_type": "code",
   "execution_count": 394,
   "id": "a1c227dd",
   "metadata": {},
   "outputs": [],
   "source": [
    "def get_offset_delta(test_offset):\n",
    "    alphas = ((1 - gamma) / 2, (1 + gamma) / 2)\n",
    "    chis = (chi2.isf(alphas, number_of_tests - 1))\n",
    "    temp = np.sqrt(number_of_tests - 1) * test_offset\n",
    "    \n",
    "    return (temp / np.sqrt(chis[0]), temp / np.sqrt(chis[1]))"
   ]
  },
  {
   "cell_type": "markdown",
   "id": "4056b399",
   "metadata": {},
   "source": [
    "-----------------------------------"
   ]
  },
  {
   "cell_type": "code",
   "execution_count": 395,
   "id": "742427e5",
   "metadata": {},
   "outputs": [
    {
     "name": "stdout",
     "output_type": "stream",
     "text": [
      "обратная функция не найдена\n"
     ]
    }
   ],
   "source": [
    "input_text = input(\"Введите функцию для поиска обратной функции: \")\n",
    "find_inverse_function(input_text)\n",
    "number_of_tests = int(input(\"Введите количество тестов для функции(количество рандомных значений, которые будут сгенерированы): \"))\n"
   ]
  },
  {
   "cell_type": "code",
   "execution_count": 396,
   "id": "8dcce488",
   "metadata": {},
   "outputs": [
    {
     "ename": "TypeError",
     "evalue": "'str' object is not callable",
     "output_type": "error",
     "traceback": [
      "\u001b[0;31m---------------------------------------------------------------------------\u001b[0m",
      "\u001b[0;31mTypeError\u001b[0m                                 Traceback (most recent call last)",
      "Cell \u001b[0;32mIn [396], line 1\u001b[0m\n\u001b[0;32m----> 1\u001b[0m data \u001b[39m=\u001b[39m get_random_data(number_of_tests)\n\u001b[1;32m      2\u001b[0m limits \u001b[39m=\u001b[39m (inverse_function(\u001b[39m0\u001b[39m), inverse_function(\u001b[39m1\u001b[39m))\n",
      "Cell \u001b[0;32mIn [388], line 5\u001b[0m, in \u001b[0;36mget_random_data\u001b[0;34m(number_of_tests)\u001b[0m\n\u001b[1;32m      3\u001b[0m result \u001b[39m=\u001b[39m []\n\u001b[1;32m      4\u001b[0m \u001b[39mfor\u001b[39;00m i \u001b[39min\u001b[39;00m \u001b[39mrange\u001b[39m(number_of_tests):\n\u001b[0;32m----> 5\u001b[0m     result\u001b[39m.\u001b[39mappend(inverse_function(random()))\n\u001b[1;32m      6\u001b[0m \u001b[39mreturn\u001b[39;00m result\n",
      "\u001b[0;31mTypeError\u001b[0m: 'str' object is not callable"
     ]
    }
   ],
   "source": [
    "data = get_random_data(number_of_tests)\n",
    "limits = (inverse_function(0), inverse_function(1))\n"
   ]
  },
  {
   "cell_type": "code",
   "execution_count": null,
   "id": "e5333c9b",
   "metadata": {},
   "outputs": [],
   "source": [
    "ex = sympify(input_text)\n",
    "derivative_expr = diff(ex, x)"
   ]
  },
  {
   "cell_type": "code",
   "execution_count": null,
   "id": "03122aa5",
   "metadata": {},
   "outputs": [],
   "source": [
    "mu = get_average(data, number_of_tests)\n",
    "tmu = float(get_real_average(derivative_expr, limits))\n",
    "disp = get_disp(data, get_average(data, number_of_tests))\n",
    "tdisp = float(get_real_disp(derivative_expr, limits, float(get_real_average(derivative_expr, limits))))\n",
    "standard_deviation = sqrt(get_disp(data, get_average(data, number_of_tests)))\n",
    "tstandard_deviation = sqrt(float(get_real_disp(derivative_expr, limits, float(get_real_average(derivative_expr, limits)))))"
   ]
  },
  {
   "cell_type": "code",
   "execution_count": null,
   "id": "53651baf",
   "metadata": {},
   "outputs": [
    {
     "data": {
      "image/png": "[encoded data removed]",
      "text/plain": [
       "<Figure size 1000x3000 with 2 Axes>"
      ]
     },
     "metadata": {},
     "output_type": "display_data"
    }
   ],
   "source": [
    "hist, bins = np.histogram(data, bins=number_of_dots, range=limits)\n",
    "plt.subplot(6, 1, 1)  \n",
    "plt.tight_layout(pad = 5)\n",
    "plt.hist(x=data, color=\"green\", bins=number_of_dots, range=limits)\n",
    "plt.xlim(limits)\n",
    "plt.title(\"Плотность распределения\")\n",
    "    \n",
    "derivative_expr = diff(ex, x)\n",
    "    \n",
    "length = (limits[1] - limits[0]) / number_of_dots\n",
    "dots = np.arange(limits[0] + length / 2, limits[1], length)\n",
    "derivative = lambdify(x, length * number_of_tests * derivative_expr)\n",
    "results = list(map(derivative, dots))\n",
    "plt.plot(dots, results, marker=11, color=\"black\")\n",
    "    \n",
    "extra_hist = hist.copy()\n",
    "    \n",
    "for i in range(1, len(hist)):\n",
    "    extra_hist[i] += extra_hist[i-1]\n",
    "        \n",
    "plt.subplot(6, 1, 2)\n",
    "ax = plt.gca()\n",
    "ax.bar(bins[:-1], extra_hist, width = length, align=\"edge\", color='green')\n",
    "\n",
    "distribution_function = lambdify(x, number_of_tests * ex)\n",
    "distribution_dots = np.arange(limits[0] + length, limits[1] + length / 10, length)\n",
    "distribution_results = list(map(distribution_function, distribution_dots))\n",
    "    \n",
    "plt.plot(distribution_dots, distribution_results, marker=11, color=\"black\")\n",
    "plt.title(\"Функция распределения\")\n",
    "plt.show()"
   ]
  },
  {
   "cell_type": "code",
   "execution_count": null,
   "id": "2c9e200f",
   "metadata": {},
   "outputs": [],
   "source": [
    "delta = get_delta(sqrt(float(get_real_disp(derivative_expr, limits, float(get_real_average(derivative_expr, limits))))))\n",
    "offset_delta = get_offset_delta(sqrt(get_disp(data, get_average(data, number_of_tests))))"
   ]
  },
  {
   "cell_type": "code",
   "execution_count": null,
   "id": "64359282",
   "metadata": {},
   "outputs": [
    {
     "data": {
      "text/html": [
       "<table><tr><td><h4>Опсиание</h4></td><td><h4>математическое ожидание</h4></td><td><h4>дисперсии</h4></td></tr><tr><td><h4>Выборочно</h4></td><td><h4>0.33587507020463514</h4></td><td><h4>0.08950546991951924</h4></td></tr><tr><td><h4>Теоретическое</h4></td><td><h4>0.3333333333333333</h4></td><td><h4>0.0888888888888889</h4></td></tr><tr><td><h4>Доверительный начало</h4></td><td><h4>0.330031586600791</h4></td><td><h4>0.0870753346584989</h4></td></tr><tr><td><h4>Доверительный конец</h4></td><td><h4>0.341718553808479</h4></td><td><h4>0.0920392676300197</h4></td></tr></table>"
      ],
      "text/plain": [
       "<IPython.core.display.HTML object>"
      ]
     },
     "metadata": {},
     "output_type": "display_data"
    }
   ],
   "source": [
    "from IPython.display import HTML, display\n",
    "\n",
    "val = np.square(offset_delta)\n",
    "\n",
    "def display_table(data):\n",
    "    html = \"<table>\"\n",
    "    for row in data:\n",
    "        html += \"<tr>\"\n",
    "        for field in row:\n",
    "            html += \"<td><h4>%s</h4></td>\" % (field)\n",
    "        html += \"</tr>\"\n",
    "    html += \"</table>\"\n",
    "    display(HTML(html))\n",
    "\n",
    "\n",
    "data = [['Опсиание', 'математическое ожидание', 'дисперсии'],\n",
    "        ['Выборочно', mu, disp],\n",
    "        ['Теоретическое', tmu, tdisp],\n",
    "        ['Доверительный начало', mu-delta,val[0]],\n",
    "        ['Доверительный конец',mu+delta,val[1]]]\n",
    "\n",
    "display_table(data)\n"
   ]
  },
  {
   "cell_type": "code",
   "execution_count": null,
   "id": "37872af4",
   "metadata": {},
   "outputs": [],
   "source": [
    "k = number_of_dots - 2 - 1\n",
    "critical_value = chi2.isf(hypothesis_error_value, k)\n",
    "normal_value = 0\n",
    "    \n",
    "for i in range(number_of_dots):\n",
    "    normal_value += np.square(hist[i] - results[i]) / results[i]"
   ]
  },
  {
   "cell_type": "code",
   "execution_count": null,
   "id": "204f3573",
   "metadata": {},
   "outputs": [
    {
     "data": {
      "text/html": [
       "<table><tr><td><h4>Описание</h4></td><td><h4>Значение</h4></td></tr><tr><td><h4>Критический кси-квадрат</h4></td><td><h4>1071.568999044425</h4></td></tr><tr><td><h4>Кси-квадрат выборки</h4></td><td><h4>1114.9071553304668</h4></td></tr><tr><td><h4>Гипотезу согласия</h4></td><td><h4>отвергаем</h4></td></tr></table>"
      ],
      "text/plain": [
       "<IPython.core.display.HTML object>"
      ]
     },
     "metadata": {},
     "output_type": "display_data"
    }
   ],
   "source": [
    "result_for_print = \"принимаем\" if normal_value < critical_value else \"отвергаем\"\n",
    "data1 = [['Описание', 'Значение'],\n",
    "         [\"Критический кси-квадрат\",critical_value],\n",
    "         [\"Кси-квадрат выборки\",normal_value],\n",
    "         [\"Гипотезу согласия\",result_for_print]]\n",
    "\n",
    "display_table(data1)\n",
    "    "
   ]
  },
  {
   "cell_type": "markdown",
   "id": "6cb9efec",
   "metadata": {},
   "source": [
    "## Задание 2 (Геометрическое распределение)"
   ]
  },
  {
   "cell_type": "markdown",
   "id": "76cbefda",
   "metadata": {},
   "source": [
    "![](./2.png)"
   ]
  },
  {
   "cell_type": "code",
   "execution_count": null,
   "id": "40584738",
   "metadata": {},
   "outputs": [],
   "source": [
    "inverse_function = \"\"\n",
    "distribution_expression = \"\"\n",
    "plt.rcParams[\"figure.figsize\"] = (10, 30)\n",
    "max_value1 = 40\n",
    "gamma1 = 0.95\n",
    "number_of_dots1 = 20\n",
    "hypothesis_error_value1 = 0.05"
   ]
  },
  {
   "cell_type": "code",
   "execution_count": null,
   "id": "f1afa1cf",
   "metadata": {},
   "outputs": [],
   "source": [
    "def get_random1():\n",
    "    random_number = random()\n",
    "    \n",
    "    for i in range(max_value1):\n",
    "        probability = p_prob1 * (1 - p_prob1) ** i\n",
    "        \n",
    "        if random_number < probability:\n",
    "            return i + 1\n",
    "        \n",
    "        random_number -= probability\n",
    "        \n",
    "    return max_value1"
   ]
  },
  {
   "cell_type": "code",
   "execution_count": null,
   "id": "897e88e1",
   "metadata": {},
   "outputs": [],
   "source": [
    "def get_random_data1():\n",
    "    result = []\n",
    "    \n",
    "    for i in range(number_of_tests1):\n",
    "        result.append(get_random1())\n",
    "    \n",
    "    return result"
   ]
  },
  {
   "cell_type": "code",
   "execution_count": null,
   "id": "47dc100b",
   "metadata": {},
   "outputs": [],
   "source": [
    "def get_average1(data):\n",
    "    return sum(data1) / number_of_tests1\n",
    "\n",
    "def get_real_average1():\n",
    "    return 1 / p_prob1"
   ]
  },
  {
   "cell_type": "code",
   "execution_count": null,
   "id": "8344d742",
   "metadata": {},
   "outputs": [],
   "source": [
    "def get_real_disp1():\n",
    "    return (1 - p_prob1) / np.square(p_prob1)\n",
    "\n",
    "def get_disp1(data, average):\n",
    "    result = 0\n",
    "    \n",
    "    for item in data:\n",
    "        result += (item - average) ** 2\n",
    "        \n",
    "    return result / number_of_tests1\n"
   ]
  },
  {
   "cell_type": "code",
   "execution_count": null,
   "id": "f3484c02",
   "metadata": {},
   "outputs": [],
   "source": [
    "def get_delta1(offset):\n",
    "    t = norm.ppf(gamma1 / 2 + 0.5)\n",
    "    return t * offset / np.sqrt(number_of_tests1)\n",
    "\n",
    "def get_offset_delta1(test_offset):\n",
    "    alphas = ((1 - gamma1) / 2, (1 + gamma1) / 2)\n",
    "    chis = (chi2.isf(alphas, number_of_tests1 - 1))\n",
    "    corrected_offset = sqrt((test_offset ** 2) * number_of_tests1 / (number_of_tests1 - 1))\n",
    "    temp = np.sqrt(number_of_tests1 - 1) * corrected_offset\n",
    "    \n",
    "    return (temp / np.sqrt(chis[0]), temp / np.sqrt(chis[1]))\n"
   ]
  },
  {
   "cell_type": "code",
   "execution_count": null,
   "id": "5cdfc15d",
   "metadata": {},
   "outputs": [],
   "source": [
    "\n",
    "def get_offset_delta1(test_offset):\n",
    "    alphas = ((1 - gamma1) / 2, (1 + gamma1) / 2)\n",
    "    chis = (chi2.isf(alphas, number_of_tests1 - 1))\n",
    "    corrected_offset = sqrt((test_offset ** 2) * number_of_tests1 / (number_of_tests1 - 1))\n",
    "    temp = np.sqrt(number_of_tests1 - 1) * corrected_offset\n",
    "    \n",
    "    return (temp / np.sqrt(chis[0]), temp / np.sqrt(chis[1]))\n"
   ]
  },
  {
   "cell_type": "code",
   "execution_count": null,
   "id": "cd256d03",
   "metadata": {},
   "outputs": [],
   "source": [
    "number_of_tests1 = int(input(\"Введите количество тестов для функции(количество рандомных значений, которые будут сгенерированы): \"))\n",
    "p_prob1 = float(input(\"Введите вероятность: \"))"
   ]
  },
  {
   "cell_type": "code",
   "execution_count": null,
   "id": "0916078f",
   "metadata": {},
   "outputs": [],
   "source": [
    "data1 = get_random_data1()\n",
    "mathu1 = get_average1(data1)\n",
    "tmathu1 = get_real_average1()\n",
    "disp1 = get_disp1(data1, get_average1(data1))\n",
    "tdisp1 = get_real_disp1()\n",
    "standard_deviation1 = sqrt(disp1)\n",
    "tstandard_deviation1 = sqrt(tdisp1)\n",
    "deltaone = get_delta1(tstandard_deviation1)\n",
    "offset_delta1 = get_offset_delta1(standard_deviation1)"
   ]
  },
  {
   "cell_type": "code",
   "execution_count": null,
   "id": "d3c2475b",
   "metadata": {},
   "outputs": [
    {
     "data": {
      "image/png": "[encoded data removed]",
      "text/plain": [
       "<Figure size 1000x3000 with 1 Axes>"
      ]
     },
     "metadata": {},
     "output_type": "display_data"
    }
   ],
   "source": [
    "limits = (0.5, max_value1 + 0.5)\n",
    "hist, bins = np.histogram(data1, bins=number_of_dots1, range=limits)\n",
    "\n",
    "length = max_value1 / number_of_dots1\n",
    "dots = np.arange(0.5 * (length + 1), max_value1 + length / 2, length)\n",
    "derivative = lambdify(x, integrate(number_of_tests1 * p_prob1 * ((1 - p_prob1) ** (x - 1)), (x, x - length / 2, x + length / 2)))\n",
    "results = list(map(derivative, dots))\n",
    "\n",
    "plt.subplot(6, 1, 2)\n",
    "        \n",
    "extra_hist = hist.copy()\n",
    "    \n",
    "for i in range(1, len(hist)):\n",
    "    extra_hist[i] += extra_hist[i-1]\n",
    "    \n",
    "ax = plt.gca()\n",
    "ax.bar(bins[:-1], extra_hist, width = length,  color = \"green\")\n",
    "plt.xlim(limits)\n",
    "    \n",
    "distribution_function = lambdify(x, number_of_tests1 * (1 - (1 - p_prob1) ** x))\n",
    "distribution_dots = np.arange(limits[0] + length, limits[1] + length / 10, length)\n",
    "    \n",
    "distribution_results = list(map(distribution_function, distribution_dots))\n",
    "plt.plot(distribution_dots, distribution_results, marker=11, color=\"black\")\n",
    "plt.title(\"Функция распределения\")\n",
    "plt.show()"
   ]
  },
  {
   "cell_type": "code",
   "execution_count": null,
   "id": "40a4ed0b",
   "metadata": {},
   "outputs": [],
   "source": [
    "k = number_of_dots1 - 2 - 1\n",
    "critical_value = chi2.isf(hypothesis_error_value1, k)\n",
    "normal_value = 0\n",
    "    \n",
    "for i in range(number_of_dots1):\n",
    "    normal_value += np.square(hist[i] - results[i]) / results[i]\n",
    "    "
   ]
  },
  {
   "cell_type": "code",
   "execution_count": null,
   "id": "6246a2ba",
   "metadata": {},
   "outputs": [
    {
     "data": {
      "text/html": [
       "<table><tr><td><h4>Опсиание</h4></td><td><h4>математическое ожидание</h4></td><td><h4>дисперсии</h4></td></tr><tr><td><h4>Выборочно</h4></td><td><h4>2.3819</h4></td><td><h4>3.273852389999978</h4></td></tr><tr><td><h4>Теоретическое</h4></td><td><h4>2.380952380952381</h4></td><td><h4>3.2879818594104315</h4></td></tr><tr><td><h4>Доверительный начало</h4></td><td><h4>2.34636037856685</h4></td><td><h4>3.18528356723203</h4></td></tr><tr><td><h4>Доверительный конец</h4></td><td><h4>2.41743962143315</h4></td><td><h4>3.36686810187709</h4></td></tr></table>"
      ],
      "text/plain": [
       "<IPython.core.display.HTML object>"
      ]
     },
     "metadata": {},
     "output_type": "display_data"
    }
   ],
   "source": [
    "from IPython.display import HTML, display\n",
    "\n",
    "val = np.square(offset_delta1)\n",
    "\n",
    "def display_table(data):\n",
    "    html = \"<table>\"\n",
    "    for row in data:\n",
    "        html += \"<tr>\"\n",
    "        for field in row:\n",
    "            html += \"<td><h4>%s</h4></td>\" % (field)\n",
    "        html += \"</tr>\"\n",
    "    html += \"</table>\"\n",
    "    display(HTML(html))\n",
    "\n",
    "\n",
    "data = [['Опсиание', 'математическое ожидание', 'дисперсии'],\n",
    "        ['Выборочно', mathu1, disp1],\n",
    "        ['Теоретическое', tmathu1, tdisp1],\n",
    "        ['Доверительный начало', mathu1-deltaone,val[0]],\n",
    "        ['Доверительный конец',mathu1+deltaone,val[1]]]\n",
    "display_table(data)\n"
   ]
  },
  {
   "cell_type": "code",
   "execution_count": null,
   "id": "68344e67",
   "metadata": {},
   "outputs": [
    {
     "data": {
      "text/html": [
       "<table><tr><td><h4>Описание</h4></td><td><h4>Значение</h4></td></tr><tr><td><h4>Критический кси-квадрат</h4></td><td><h4>27.587111638275335</h4></td></tr><tr><td><h4>Кси-квадрат выборки</h4></td><td><h4>16.286001640863248</h4></td></tr><tr><td><h4>Гипотезу согласия</h4></td><td><h4>принимаем</h4></td></tr></table>"
      ],
      "text/plain": [
       "<IPython.core.display.HTML object>"
      ]
     },
     "metadata": {},
     "output_type": "display_data"
    }
   ],
   "source": [
    "result_for_print = \"принимаем\" if normal_value < critical_value else \"отвергаем\"\n",
    "data1 = [['Описание', 'Значение'],\n",
    "         [\"Критический кси-квадрат\",critical_value],\n",
    "         [\"Кси-квадрат выборки\",normal_value],\n",
    "         [\"Гипотезу согласия\",result_for_print]]\n",
    "\n",
    "display_table(data1)\n",
    "    "
   ]
  }
 ],
 "metadata": {
  "kernelspec": {
   "display_name": "Python 3.10.6 ('env': venv)",
   "language": "python",
   "name": "python3"
  },
  "language_info": {
   "codemirror_mode": {
    "name": "ipython",
    "version": 3
   },
   "file_extension": ".py",
   "mimetype": "text/x-python",
   "name": "python",
   "nbconvert_exporter": "python",
   "pygments_lexer": "ipython3",
   "version": "3.10.6"
  },
  "vscode": {
   "interpreter": {
    "hash": "1c392b5760d0b3935d68c9662fbb9672f5e54a780fcda142c2f10022daadb3ae"
   }
  }
 },
 "nbformat": 4,
 "nbformat_minor": 5
}
